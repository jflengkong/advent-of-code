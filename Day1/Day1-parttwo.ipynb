{
 "cells": [
  {
   "cell_type": "code",
   "execution_count": 1,
   "id": "96729d73-4999-45f6-b97f-f9aaaf5f0c3a",
   "metadata": {},
   "outputs": [],
   "source": [
    "# Import dependencies \n",
    "import re\n",
    "import os"
   ]
  },
  {
   "cell_type": "code",
   "execution_count": 2,
   "id": "5a724dad-394c-4561-af0b-48f48c101df4",
   "metadata": {},
   "outputs": [
    {
     "name": "stdout",
     "output_type": "stream",
     "text": [
      "Input File\n"
     ]
    }
   ],
   "source": [
    "# Read the text file from the input data \n",
    "input_file= (open(\"Day1-input.txt\",\"r+\")).read()\n",
    "\n",
    "# Print the input files \n",
    "print(\"Input File\")"
   ]
  },
  {
   "cell_type": "code",
   "execution_count": 3,
   "id": "a6523385-2b21-4d7d-b6e3-a7ce436c868a",
   "metadata": {},
   "outputs": [],
   "source": [
    "file_list = []\n",
    "string = \"\"\n",
    "\n",
    "# For each item in the file\n",
    "for n in input_file:\n",
    "    # If item is not space/leading/trailing whitespace\n",
    "    if n.strip():  \n",
    "        # Add the character to string \n",
    "        string += n[0]  \n",
    "\n",
    "    # If item is empty \n",
    "    else: \n",
    "        # If string is not empty \n",
    "        if string:  \n",
    "            # Add the string to the file_list variable \n",
    "            file_list.append(string)  \n",
    "            # Reset the string for the next set of characters \n",
    "            string = \"\"  \n",
    "\n",
    "# Add the last string if it's not empty\n",
    "if string:\n",
    "    file_list.append(string)\n"
   ]
  },
  {
   "cell_type": "code",
   "execution_count": 14,
   "id": "505fe7ae-f74e-4bf7-9030-ec4b86f257c1",
   "metadata": {},
   "outputs": [
    {
     "name": "stdout",
     "output_type": "stream",
     "text": [
      "Result: 55413\n"
     ]
    }
   ],
   "source": [
    "import os\n",
    "import re\n",
    "\n",
    "# Path to the input file\n",
    "input_path = \"Day1-input.txt\"\n",
    "\n",
    "# Read the input file\n",
    "with open(input_path, \"r\") as input_file:\n",
    "    file_lines = input_file.readlines()\n",
    "\n",
    "# Initialize the result variable\n",
    "result = 0\n",
    "\n",
    "# Regular expression pattern to match digits and their spelled-out versions\n",
    "RE_PATTERN = r\"\\d|one|two|three|four|five|six|seven|eight|nine\"\n",
    "\n",
    "# Dictionary to map spelled-out digits to their numerical representations\n",
    "replace_dict = {\n",
    "    \"one\": \"1\",\n",
    "    \"two\": \"2\",\n",
    "    \"three\": \"3\",\n",
    "    \"four\": \"4\",\n",
    "    \"five\": \"5\",\n",
    "    \"six\": \"6\",\n",
    "    \"seven\": \"7\",\n",
    "    \"eight\": \"8\",\n",
    "    \"nine\": \"9\",\n",
    "}\n",
    "\n",
    "# Iterate through each line in the file\n",
    "for line in file_lines:\n",
    "    digits = []\n",
    "    matched_digit = re.search(RE_PATTERN, line)\n",
    "    \n",
    "    # Extract digits and their spelled-out versions from each line\n",
    "    while matched_digit:\n",
    "        digits.append(matched_digit.group())\n",
    "        next_start = matched_digit.start() + 1\n",
    "        line = line[next_start:]\n",
    "        matched_digit = re.search(RE_PATTERN, line)\n",
    "    \n",
    "    # Replace spelled-out digits with numerical representations\n",
    "    digits = [\n",
    "        replace_dict[digit] if digit in replace_dict else digit for digit in digits\n",
    "    ]\n",
    "    \n",
    "    # Add the first and last digits of each line to the result\n",
    "    result += int(digits[0] + digits[-1])\n",
    "\n",
    "# Print the final result\n",
    "print(\"Result:\", result)"
   ]
  },
  {
   "cell_type": "markdown",
   "id": "83857098-2e32-4507-9384-beae2ba58b9c",
   "metadata": {},
   "source": [
    "References: \n",
    "\n",
    "https://stackoverflow.com/questions/493174/is-there-a-way-to-convert-number-words-to-integers\n",
    "\n",
    "https://www.geeksforgeeks.org/python-replace-multiple-characters-at-once/?ref=ml_lbp "
   ]
  },
  {
   "cell_type": "code",
   "execution_count": null,
   "id": "0b894b37-a3d6-415c-a7fb-6345a29efbcf",
   "metadata": {},
   "outputs": [],
   "source": []
  }
 ],
 "metadata": {
  "kernelspec": {
   "display_name": "“PythonData”",
   "language": "python",
   "name": "pythondata"
  },
  "language_info": {
   "codemirror_mode": {
    "name": "ipython",
    "version": 3
   },
   "file_extension": ".py",
   "mimetype": "text/x-python",
   "name": "python",
   "nbconvert_exporter": "python",
   "pygments_lexer": "ipython3",
   "version": "3.11.4"
  }
 },
 "nbformat": 4,
 "nbformat_minor": 5
}
