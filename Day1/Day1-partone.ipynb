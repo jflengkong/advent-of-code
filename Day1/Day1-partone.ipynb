{
 "cells": [
  {
   "cell_type": "code",
   "execution_count": 1,
   "id": "29601e55-476c-4937-affb-9acc7e2a6903",
   "metadata": {},
   "outputs": [],
   "source": [
    "# Import dependencies \n",
    "import re"
   ]
  },
  {
   "cell_type": "code",
   "execution_count": 2,
   "id": "84b9e29e-3c1c-4d1e-8807-2f664341fc98",
   "metadata": {},
   "outputs": [
    {
     "name": "stdout",
     "output_type": "stream",
     "text": [
      "Input File\n",
      "51591twosix4dhsxvgghxq\n"
     ]
    }
   ],
   "source": [
    "# Read the text file from the input data \n",
    "input_file= (open(\"Day1-input.txt\",\"r+\")).read()"
   ]
  },
  {
   "cell_type": "code",
   "execution_count": 15,
   "id": "4077fb34-309b-46e8-8e31-6498586638cd",
   "metadata": {},
   "outputs": [],
   "source": [
    "file_list = []\n",
    "string = \"\"\n",
    "\n",
    "# For each item in the file\n",
    "for n in input_file:\n",
    "    # If item is not space/leading/trailing whitespace\n",
    "    if n.strip():  \n",
    "        # Add the character to string \n",
    "        string += n[0]  \n",
    "\n",
    "    # If item is empty \n",
    "    else: \n",
    "        # If string is not empty \n",
    "        if string:  \n",
    "            # Add the string to the file_list variable \n",
    "            file_list.append(string)  \n",
    "            # Reset the string for the next set of characters \n",
    "            string = \"\"  \n",
    "\n",
    "# Add the last string if it's not empty\n",
    "if string:\n",
    "    file_list.append(string)"
   ]
  },
  {
   "cell_type": "code",
   "execution_count": 16,
   "id": "3ed572cd-beeb-44c0-9163-3d2a614f703d",
   "metadata": {},
   "outputs": [],
   "source": [
    "# Create empty variable \n",
    "number_list = []  \n",
    "\n",
    "# Iterate through the items to find all the digits \n",
    "for item in file_list:\n",
    "\n",
    "    # Find all digits \n",
    "    digits = ''.join(re.findall(r'\\d', item))\n",
    "    \n",
    "    # Convert the digits string to an integer\n",
    "    digits_int = int(digits)\n",
    "    \n",
    "    # Append the number_list with the integer digits\n",
    "    number_list.append(digits_int)"
   ]
  },
  {
   "cell_type": "code",
   "execution_count": 17,
   "id": "4a24923e-7516-4111-8a18-f1ea35fe7274",
   "metadata": {},
   "outputs": [],
   "source": [
    "final_numbers = [] \n",
    "total_sum = 0 \n",
    "\n",
    "# Iterate through the list \n",
    "for number in number_list: \n",
    "    # first_numn is the first digit per item \n",
    "    first = int(str(number)[0])\n",
    "    # last_digit is the last digit per item \n",
    "    last = number % 10\n",
    "    # Join all digits into a single string. \n",
    "    combined_digits = ''.join(str(first)+ str(last))\n",
    "    \n",
    "    # Change to integer if required \n",
    "    combined_digits= int(combined_digits)\n",
    "    \n",
    "    # for each item, add the item\n",
    "    final_numbers.append(combined_digits)"
   ]
  },
  {
   "cell_type": "code",
   "execution_count": 18,
   "id": "9a51f90a-d28c-4f81-8431-086b1d3f1c27",
   "metadata": {},
   "outputs": [
    {
     "name": "stdout",
     "output_type": "stream",
     "text": [
      "[54, 45, 88, 77, 33]\n",
      "[33, 96, 23, 35, 55]\n"
     ]
    }
   ],
   "source": [
    "# Check final numbers \n",
    "print(final_numbers[0:5])\n",
    "print(final_numbers[-5:])"
   ]
  },
  {
   "cell_type": "code",
   "execution_count": 19,
   "id": "a9de31b0-5a46-4b81-ae24-fc0228de1c0d",
   "metadata": {},
   "outputs": [
    {
     "name": "stdout",
     "output_type": "stream",
     "text": [
      "The Total sum of all the numbers in the list is 55712\n"
     ]
    }
   ],
   "source": [
    "# Find the sum \n",
    "total_sum = sum(final_numbers)\n",
    "print(f\"The Total sum of all the numbers in the list is {total_sum}\")"
   ]
  }
 ],
 "metadata": {
  "kernelspec": {
   "display_name": "“PythonData”",
   "language": "python",
   "name": "pythondata"
  },
  "language_info": {
   "codemirror_mode": {
    "name": "ipython",
    "version": 3
   },
   "file_extension": ".py",
   "mimetype": "text/x-python",
   "name": "python",
   "nbconvert_exporter": "python",
   "pygments_lexer": "ipython3",
   "version": "3.11.4"
  }
 },
 "nbformat": 4,
 "nbformat_minor": 5
}
