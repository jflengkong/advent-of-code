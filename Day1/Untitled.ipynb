{
 "cells": [
  {
   "cell_type": "code",
   "execution_count": 1,
   "id": "6d0ebe5b-0149-4c52-92d8-5b95d046f552",
   "metadata": {},
   "outputs": [],
   "source": [
    "# Import dependencies \n",
    "import re"
   ]
  },
  {
   "cell_type": "code",
   "execution_count": 2,
   "id": "1806c854-d2a8-4892-aa45-2c65138ec7ed",
   "metadata": {},
   "outputs": [
    {
     "name": "stdout",
     "output_type": "stream",
     "text": [
      "Input File\n"
     ]
    }
   ],
   "source": [
    "# Read the text file from the input data \n",
    "input_file= (open(\"Day1-input.txt\",\"r+\")).read()\n",
    "\n",
    "# Print the input files \n",
    "print(\"Input File\")"
   ]
  },
  {
   "cell_type": "code",
   "execution_count": 3,
   "id": "0b0a35fd-e2c8-4f2e-abf3-71e54f2e3b94",
   "metadata": {},
   "outputs": [],
   "source": [
    "file_list = []\n",
    "string = \"\"\n",
    "\n",
    "# For each item in the file\n",
    "for n in input_file:\n",
    "    # If item is not space/leading/trailing whitespace\n",
    "    if n.strip():  \n",
    "        # Add the character to string \n",
    "        string += n[0]  \n",
    "\n",
    "    # If item is empty \n",
    "    else: \n",
    "        # If string is not empty \n",
    "        if string:  \n",
    "            # Add the string to the file_list variable \n",
    "            file_list.append(string)  \n",
    "            # Reset the string for the next set of characters \n",
    "            string = \"\"  \n",
    "\n",
    "# Add the last string if it's not empty\n",
    "if string:\n",
    "    file_list.append(string)\n"
   ]
  },
  {
   "cell_type": "code",
   "execution_count": 4,
   "id": "ef1369e3-d905-4859-b3e4-5bc3a3d2db2f",
   "metadata": {},
   "outputs": [
    {
     "data": {
      "text/plain": [
       "'51591twosix4dhsxvgghxq'"
      ]
     },
     "execution_count": 4,
     "metadata": {},
     "output_type": "execute_result"
    }
   ],
   "source": [
    "file_list[0]"
   ]
  },
  {
   "cell_type": "code",
   "execution_count": 7,
   "id": "aac25bb2-ebde-4931-ba62-910baccbc450",
   "metadata": {},
   "outputs": [
    {
     "ename": "NameError",
     "evalue": "name '__file__' is not defined",
     "output_type": "error",
     "traceback": [
      "\u001b[1;31m---------------------------------------------------------------------------\u001b[0m",
      "\u001b[1;31mNameError\u001b[0m                                 Traceback (most recent call last)",
      "Cell \u001b[1;32mIn[7], line 4\u001b[0m\n\u001b[0;32m      1\u001b[0m \u001b[38;5;28;01mimport\u001b[39;00m \u001b[38;5;21;01mos\u001b[39;00m\n\u001b[0;32m      2\u001b[0m \u001b[38;5;28;01mimport\u001b[39;00m \u001b[38;5;21;01mre\u001b[39;00m\n\u001b[1;32m----> 4\u001b[0m input_path \u001b[38;5;241m=\u001b[39m os\u001b[38;5;241m.\u001b[39mpath\u001b[38;5;241m.\u001b[39mjoin(os\u001b[38;5;241m.\u001b[39mpath\u001b[38;5;241m.\u001b[39mdirname(\u001b[38;5;18m__file__\u001b[39m), \u001b[38;5;124m\"\u001b[39m\u001b[38;5;124minput.txt\u001b[39m\u001b[38;5;124m\"\u001b[39m)\n\u001b[0;32m      5\u001b[0m input_file \u001b[38;5;241m=\u001b[39m \u001b[38;5;28mopen\u001b[39m(input_path, \u001b[38;5;124m\"\u001b[39m\u001b[38;5;124mr\u001b[39m\u001b[38;5;124m\"\u001b[39m)\n\u001b[0;32m      6\u001b[0m file_lines \u001b[38;5;241m=\u001b[39m input_file\u001b[38;5;241m.\u001b[39mreadlines()\n",
      "\u001b[1;31mNameError\u001b[0m: name '__file__' is not defined"
     ]
    }
   ],
   "source": [
    "import re\n",
    "\n",
    "# Initialize the total sum\n",
    "total_sum = 0\n",
    "\n",
    "# Sample list of lines (replace this with your actual list)\n",
    "file_list = [\n",
    "    \"one + two =\",\n",
    "    \"two + three =\",\n",
    "    \"three + four =\",\n",
    "    \"four + five =\",\n",
    "    \"five + six =\",\n",
    "    \"six + seven =\",\n",
    "    \"seven + eight =\",\n",
    "    \"eight + nine =\",\n",
    "    \"nine + one =\"\n",
    "]\n",
    "\n",
    "# Iterate through each line\n",
    "for line in file_list:\n",
    "    # Find the positions of spelled-out digits \"one\" to \"nine\"\n",
    "    digit_positions = [m.start() for m in re.finditer(r'one|two|three|four|five|six|seven|eight|nine', line)]\n",
    "    \n",
    "    # Extract the real first and last digits\n",
    "    first_digit = int(re.findall(r'\\d', line[digit_positions[0]:])[0]) if digit_positions else None\n",
    "    last_digit = int(re.findall(r'\\d', line[digit_positions[-1]:])[0]) if digit_positions else None\n",
    "    \n",
    "    # Add the first and last digits to the total sum\n",
    "    if first_digit is not None and last_digit is not None:\n",
    "        total_sum += first_digit + last_digit\n",
    "\n",
    "# Print the total sum\n",
    "print(\"Total sum of calibration values:\", total_sum)\n"
   ]
  },
  {
   "cell_type": "code",
   "execution_count": null,
   "id": "519acc50-de43-431f-9aeb-ecb85727db4c",
   "metadata": {},
   "outputs": [],
   "source": []
  }
 ],
 "metadata": {
  "kernelspec": {
   "display_name": "“PythonData”",
   "language": "python",
   "name": "pythondata"
  },
  "language_info": {
   "codemirror_mode": {
    "name": "ipython",
    "version": 3
   },
   "file_extension": ".py",
   "mimetype": "text/x-python",
   "name": "python",
   "nbconvert_exporter": "python",
   "pygments_lexer": "ipython3",
   "version": "3.11.4"
  }
 },
 "nbformat": 4,
 "nbformat_minor": 5
}
