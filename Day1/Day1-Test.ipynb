{
 "cells": [
  {
   "cell_type": "code",
   "execution_count": 12,
   "id": "9bdab0fd-7362-4949-978b-30f1480d19e3",
   "metadata": {},
   "outputs": [],
   "source": [
    "import re"
   ]
  },
  {
   "cell_type": "code",
   "execution_count": 13,
   "id": "b94beec2-b93e-4de4-a704-162534c78e4d",
   "metadata": {},
   "outputs": [],
   "source": [
    "example = [\"1abc2\", \"pqr3stu8vwx\", \"a1b2c3d4e5f\", \"treb7uchet\"] "
   ]
  },
  {
   "cell_type": "code",
   "execution_count": 14,
   "id": "14d9098d-ab55-4455-a052-b57875f34f0c",
   "metadata": {},
   "outputs": [],
   "source": [
    "# Create an empty list for the example \n",
    "number_list = [] \n",
    "\n",
    "# Iterate through the items to find all the digits \n",
    "for item in example:\n",
    "\n",
    "    # Find all digits \n",
    "    digits = ''.join(re.findall(r'\\d', item))\n",
    "    \n",
    "    # Convert the digits string to an integer\n",
    "    digits_int = int(digits)\n",
    "    \n",
    "    # Append the number_list with the integer digits\n",
    "    number_list.append(digits_int)\n"
   ]
  },
  {
   "cell_type": "code",
   "execution_count": 15,
   "id": "38168045-d9a0-4908-8d06-1f9b42df1f08",
   "metadata": {},
   "outputs": [
    {
     "name": "stdout",
     "output_type": "stream",
     "text": [
      "[12, 38, 12345, 7]\n"
     ]
    }
   ],
   "source": [
    "# Confirm list \n",
    "print(number_list)"
   ]
  },
  {
   "cell_type": "code",
   "execution_count": 16,
   "id": "c0b2277b-bb2f-40da-a98d-1c010d55b23b",
   "metadata": {},
   "outputs": [],
   "source": [
    "#CP \n",
    "# Find the first digit \n",
    "def firstDigit(n) : \n",
    "  \n",
    "    # Remove last digit from number \n",
    "    # till only one digit is left \n",
    "    while n >= 10:  \n",
    "        n = n / 10; \n",
    "      \n",
    "    # return the first digit \n",
    "    return int(n) \n",
    "  \n",
    "# Find the last digit \n",
    "def lastDigit(n) : \n",
    "  \n",
    "    # return the last digit \n",
    "    return (n % 10) "
   ]
  },
  {
   "cell_type": "code",
   "execution_count": 17,
   "id": "4c86287e-2b11-44ff-b553-acefef3f4bc3",
   "metadata": {},
   "outputs": [],
   "source": [
    "final_numbers = [] \n",
    "total_sum = 0 \n",
    "\n",
    "# Iterate through the list \n",
    "for number in number_list: \n",
    "    # first_numn is the first digit per item \n",
    "    first = firstDigit(number)\n",
    "    # last_digit is the last digit per item \n",
    "    last = lastDigit(number)\n",
    "    # Join all digits into a single string. \n",
    "    combined_digits = ''.join(str(first)+ str(last))\n",
    "    \n",
    "    # Change to integer if required \n",
    "    combined_digits= int(combined_digits)\n",
    "    \n",
    "    # for each item, add the item\n",
    "    final_numbers.append(combined_digits)"
   ]
  },
  {
   "cell_type": "code",
   "execution_count": 18,
   "id": "12c543ee-2234-4f7f-88d3-f21557d1469a",
   "metadata": {},
   "outputs": [
    {
     "name": "stdout",
     "output_type": "stream",
     "text": [
      "It's an Integer\n",
      "It's an Integer\n",
      "It's an Integer\n",
      "It's an Integer\n"
     ]
    }
   ],
   "source": [
    "# https://stackoverflow.com/questions/46919820/python-check-for-data-type-in-list \n",
    "# function to check if element is int, string or float \n",
    "def checkType(a_list):\n",
    "    for element in a_list:\n",
    "        if isinstance(element, int):\n",
    "            print(\"It's an Integer\")\n",
    "        if isinstance(element, str):\n",
    "            print(\"It's an string\")\n",
    "        if isinstance(element, float):\n",
    "            print(\"It's an floating number\")\n",
    "checkType(final_numbers)"
   ]
  },
  {
   "cell_type": "code",
   "execution_count": 19,
   "id": "ffc6ab62-5d4a-4ee8-a02e-72434b87651f",
   "metadata": {},
   "outputs": [
    {
     "data": {
      "text/plain": [
       "142"
      ]
     },
     "execution_count": 19,
     "metadata": {},
     "output_type": "execute_result"
    }
   ],
   "source": [
    "total_sum = sum(final_numbers)\n",
    "total_sum"
   ]
  },
  {
   "cell_type": "markdown",
   "id": "0ea84986-9b64-470d-be55-37edb77c6b0a",
   "metadata": {},
   "source": [
    "# References: \n",
    "https://www.w3schools.com/python/python_regex.asp \n",
    "\n",
    "https://www.geeksforgeeks.org/find-first-last-digits-number/\n",
    "\n",
    "https://www.geeksforgeeks.org/reading-writing-text-files-python/ "
   ]
  }
 ],
 "metadata": {
  "kernelspec": {
   "display_name": "“PythonData”",
   "language": "python",
   "name": "pythondata"
  },
  "language_info": {
   "codemirror_mode": {
    "name": "ipython",
    "version": 3
   },
   "file_extension": ".py",
   "mimetype": "text/x-python",
   "name": "python",
   "nbconvert_exporter": "python",
   "pygments_lexer": "ipython3",
   "version": "3.11.4"
  }
 },
 "nbformat": 4,
 "nbformat_minor": 5
}
