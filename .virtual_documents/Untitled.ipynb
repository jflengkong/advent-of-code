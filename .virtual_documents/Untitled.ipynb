import re


example = ["1abc2", "pqr3stu8vwx", "a1b2c3d4e5f", "treb7uchet"] 


# Create an empty list for the example 
number_list = [] 

# Iterate through the items to find all the digits 
for item in example:

    # Find all digits 
    digits = ''.join(re.findall(r'\d', item))
    
    # Convert the digits string to an integer
    digits_int = int(digits)
    
    # Append the number_list with the integer digits
    number_list.append(digits_int)



# Confirm list 
print(number_list)


#CP 
# Find the first digit 
def firstDigit(n) : 
  
    # Remove last digit from number 
    # till only one digit is left 
    while n >= 10:  
        n = n / 10; 
      
    # return the first digit 
    return int(n) 
  
# Find the last digit 
def lastDigit(n) : 
  
    # return the last digit 
    return (n % 10) 


# function for sum of all numnbers 
def sumOfDigits(n):
    return sum(int(digit) for digit in str(n))


final_numbers = [] 
total_sum = 0 

# Iterate through the list 
for number in number_list: 
    # first_numn is the first digit per item 
    first = firstDigit(number)
    # last_digit is the last digit per item 
    last = lastDigit(number)
    # Join all digits into a single string. 
    combined_digits = ''.join(str(first)+ str(last))
    
    # Change to integer if required 
    combined_digits= int(combined_digits)
    
    # for each item, add the item
    final_numbers.append(combined_digits)

total_sum = sumOfDigits(final_numbers)






