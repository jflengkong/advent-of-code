import re


example = ["1abc2", "pqr3stu8vwx", "a1b2c3d4e5f", "treb7uchet"] 


# Create an empty list for the example 
number_list = [] 

# Iterate through the items to find all the digits 
for item in example:

    # Find all digits 
    digits = ''.join(re.findall(r'\d', item))
    
    # Convert the digits string to an integer
    digits_int = int(digits)
    
    # Append the number_list with the integer digits
    number_list.append(digits_int)



# Confirm list 
print(number_list)


#CP 
# Find the first digit 
def firstDigit(n) : 
  
    # Remove last digit from number 
    # till only one digit is left 
    while n >= 10:  
        n = n / 10; 
      
    # return the first digit 
    return int(n) 
  
# Find the last digit 
def lastDigit(n) : 
  
    # return the last digit 
    return (n % 10) 


final_numbers = [] 
total_sum = 0 

# Iterate through the list 
for number in number_list: 
    # first_numn is the first digit per item 
    first = firstDigit(number)
    # last_digit is the last digit per item 
    last = lastDigit(number)
    # Join all digits into a single string. 
    combined_digits = ''.join(str(first)+ str(last))
    
    # Change to integer if required 
    combined_digits= int(combined_digits)
    
    # for each item, add the item
    final_numbers.append(combined_digits)


# https://stackoverflow.com/questions/46919820/python-check-for-data-type-in-list 
# function to check if element is int, string or float 
def checkType(a_list):
    for element in a_list:
        if isinstance(element, int):
            print("It's an Integer")
        if isinstance(element, str):
            print("It's an string")
        if isinstance(element, float):
            print("It's an floating number")
checkType(final_numbers)


total_sum = sum(final_numbers)
total_sum



