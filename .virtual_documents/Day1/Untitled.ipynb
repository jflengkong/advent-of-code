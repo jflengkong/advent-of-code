# Import dependencies 
import re


# Read the text file from the input data 
input_file= (open("Day1-input.txt","r+")).read()

# Print the input files 
print("Input File")


file_list = []
string = ""

# For each item in the file
for n in input_file:
    # If item is not space/leading/trailing whitespace
    if n.strip():  
        # Add the character to string 
        string += n[0]  

    # If item is empty 
    else: 
        # If string is not empty 
        if string:  
            # Add the string to the file_list variable 
            file_list.append(string)  
            # Reset the string for the next set of characters 
            string = ""  

# Add the last string if it's not empty
if string:
    file_list.append(string)



file_list[0]


import re

# Initialize the total sum
total_sum = 0

# Sample list of lines (replace this with your actual list)
file_list = [
    "one + two =",
    "two + three =",
    "three + four =",
    "four + five =",
    "five + six =",
    "six + seven =",
    "seven + eight =",
    "eight + nine =",
    "nine + one ="
]

# Iterate through each line
for line in file_list:
    # Find the positions of spelled-out digits "one" to "nine"
    digit_positions = [m.start() for m in re.finditer(r'one|two|three|four|five|six|seven|eight|nine', line)]
    
    # Extract the real first and last digits
    first_digit = int(re.findall(r'\d', line[digit_positions[0]:])[0]) if digit_positions else None
    last_digit = int(re.findall(r'\d', line[digit_positions[-1]:])[0]) if digit_positions else None
    
    # Add the first and last digits to the total sum
    if first_digit is not None and last_digit is not None:
        total_sum += first_digit + last_digit

# Print the total sum
print("Total sum of calibration values:", total_sum)




