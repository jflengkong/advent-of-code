# Import dependencies 
import re
import os


# Read the text file from the input data 
input_file= (open("Day1-input.txt","r+")).read()

# Print the input files 
print("Input File")


file_list = []
string = ""

# For each item in the file
for n in input_file:
    # If item is not space/leading/trailing whitespace
    if n.strip():  
        # Add the character to string 
        string += n[0]  

    # If item is empty 
    else: 
        # If string is not empty 
        if string:  
            # Add the string to the file_list variable 
            file_list.append(string)  
            # Reset the string for the next set of characters 
            string = ""  

# Add the last string if it's not empty
if string:
    file_list.append(string)



import os
import re

# Path to the input file
input_path = "Day1-input.txt"

# Read the input file
with open(input_path, "r") as input_file:
    file_lines = input_file.readlines()

# Initialize the result variable
result = 0

# Regular expression pattern to match digits and their spelled-out versions
RE_PATTERN = r"\d|one|two|three|four|five|six|seven|eight|nine"

# Dictionary to map spelled-out digits to their numerical representations
replace_dict = {
    "one": "1",
    "two": "2",
    "three": "3",
    "four": "4",
    "five": "5",
    "six": "6",
    "seven": "7",
    "eight": "8",
    "nine": "9",
}

# Iterate through each line in the file
for line in file_lines:
    digits = []
    matched_digit = re.search(RE_PATTERN, line)
    
    # Extract digits and their spelled-out versions from each line
    while matched_digit:
        digits.append(matched_digit.group())
        next_start = matched_digit.start() + 1
        line = line[next_start:]
        matched_digit = re.search(RE_PATTERN, line)
    
    # Replace spelled-out digits with numerical representations
    digits = [
        replace_dict[digit] if digit in replace_dict else digit for digit in digits
    ]
    
    # Add the first and last digits of each line to the result
    result += int(digits[0] + digits[-1])

# Print the final result
print("Result:", result)






