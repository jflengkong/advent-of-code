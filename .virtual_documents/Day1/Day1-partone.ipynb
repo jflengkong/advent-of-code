# Import dependencies 
import re


# Read the text file from the input data 
input_file= (open("Day1-input.txt","r+")).read()


file_list = []
string = ""

# For each item in the file
for n in input_file:
    # If item is not space/leading/trailing whitespace
    if n.strip():  
        # Add the character to string 
        string += n[0]  

    # If item is empty 
    else: 
        # If string is not empty 
        if string:  
            # Add the string to the file_list variable 
            file_list.append(string)  
            # Reset the string for the next set of characters 
            string = ""  

# Add the last string if it's not empty
if string:
    file_list.append(string)


# Create empty variable 
number_list = []  

# Iterate through the items to find all the digits 
for item in file_list:

    # Find all digits 
    digits = ''.join(re.findall(r'\d', item))
    
    # Convert the digits string to an integer
    digits_int = int(digits)
    
    # Append the number_list with the integer digits
    number_list.append(digits_int)


final_numbers = [] 
total_sum = 0 

# Iterate through the list 
for number in number_list: 
    # first_numn is the first digit per item 
    first = int(str(number)[0])
    # last_digit is the last digit per item 
    last = number % 10
    # Join all digits into a single string. 
    combined_digits = ''.join(str(first)+ str(last))
    
    # Change to integer if required 
    combined_digits= int(combined_digits)
    
    # for each item, add the item
    final_numbers.append(combined_digits)


# Check final numbers 
print(final_numbers[0:5])
print(final_numbers[-5:])


# Find the sum 
total_sum = sum(final_numbers)
print(f"The Total sum of all the numbers in the list is {total_sum}")
