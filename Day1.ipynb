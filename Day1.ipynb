{
 "cells": [
  {
   "cell_type": "code",
   "execution_count": 10,
   "id": "9bdab0fd-7362-4949-978b-30f1480d19e3",
   "metadata": {},
   "outputs": [],
   "source": [
    "import re"
   ]
  },
  {
   "cell_type": "code",
   "execution_count": 11,
   "id": "b94beec2-b93e-4de4-a704-162534c78e4d",
   "metadata": {},
   "outputs": [],
   "source": [
    "example = [\"1abc2\", \"pqr3stu8vwx\", \"a1b2c3d4e5f\", \"treb7uchet\"] "
   ]
  },
  {
   "cell_type": "code",
   "execution_count": 33,
   "id": "14d9098d-ab55-4455-a052-b57875f34f0c",
   "metadata": {},
   "outputs": [
    {
     "name": "stdout",
     "output_type": "stream",
     "text": [
      "[12, 38, 12345, 7]\n"
     ]
    }
   ],
   "source": [
    "# Create an empty list for the example \n",
    "number_list = [] \n",
    "\n",
    "# Iterate through the items to find all the digits \n",
    "for item in example:\n",
    "\n",
    "    # Find all digits \n",
    "    digits = ''.join(re.findall(r'\\d', item))\n",
    "    \n",
    "    # Convert the digits string to an integer\n",
    "    digits_int = int(digits)\n",
    "    \n",
    "    # Append the number_list with the integer digits\n",
    "    number_list.append(digits_int)\n"
   ]
  },
  {
   "cell_type": "code",
   "execution_count": 35,
   "id": "38168045-d9a0-4908-8d06-1f9b42df1f08",
   "metadata": {},
   "outputs": [
    {
     "name": "stdout",
     "output_type": "stream",
     "text": [
      "[12, 38, 12345, 7]\n"
     ]
    }
   ],
   "source": [
    "# Confirm list \n",
    "print(number_list)"
   ]
  },
  {
   "cell_type": "code",
   "execution_count": 38,
   "id": "c0b2277b-bb2f-40da-a98d-1c010d55b23b",
   "metadata": {},
   "outputs": [],
   "source": [
    "#CP \n",
    "# Find the first digit \n",
    "def firstDigit(n) : \n",
    "  \n",
    "    # Remove last digit from number \n",
    "    # till only one digit is left \n",
    "    while n >= 10:  \n",
    "        n = n / 10; \n",
    "      \n",
    "    # return the first digit \n",
    "    return int(n) \n",
    "  \n",
    "# Find the last digit \n",
    "def lastDigit(n) : \n",
    "  \n",
    "    # return the last digit \n",
    "    return (n % 10) "
   ]
  },
  {
   "cell_type": "code",
   "execution_count": 52,
   "id": "d8e3c9a2-39e6-47b3-ad76-dff2ae600717",
   "metadata": {},
   "outputs": [],
   "source": [
    "# function for sum of all numnbers \n",
    "def sumOfDigits(n):\n",
    "    return sum(int(digit) for digit in str(n))"
   ]
  },
  {
   "cell_type": "code",
   "execution_count": 59,
   "id": "4c86287e-2b11-44ff-b553-acefef3f4bc3",
   "metadata": {},
   "outputs": [
    {
     "ename": "ValueError",
     "evalue": "invalid literal for int() with base 10: '['",
     "output_type": "error",
     "traceback": [
      "\u001b[1;31m---------------------------------------------------------------------------\u001b[0m",
      "\u001b[1;31mValueError\u001b[0m                                Traceback (most recent call last)",
      "Cell \u001b[1;32mIn[59], line 19\u001b[0m\n\u001b[0;32m     16\u001b[0m     \u001b[38;5;66;03m# for each item, add the item\u001b[39;00m\n\u001b[0;32m     17\u001b[0m     final_numbers\u001b[38;5;241m.\u001b[39mappend(combined_digits)\n\u001b[1;32m---> 19\u001b[0m total_sum \u001b[38;5;241m=\u001b[39m sumOfDigits(final_numbers)\n",
      "Cell \u001b[1;32mIn[52], line 3\u001b[0m, in \u001b[0;36msumOfDigits\u001b[1;34m(n)\u001b[0m\n\u001b[0;32m      2\u001b[0m \u001b[38;5;28;01mdef\u001b[39;00m \u001b[38;5;21msumOfDigits\u001b[39m(n):\n\u001b[1;32m----> 3\u001b[0m     \u001b[38;5;28;01mreturn\u001b[39;00m \u001b[38;5;28msum\u001b[39m(\u001b[38;5;28mint\u001b[39m(digit) \u001b[38;5;28;01mfor\u001b[39;00m digit \u001b[38;5;129;01min\u001b[39;00m \u001b[38;5;28mstr\u001b[39m(n))\n",
      "Cell \u001b[1;32mIn[52], line 3\u001b[0m, in \u001b[0;36m<genexpr>\u001b[1;34m(.0)\u001b[0m\n\u001b[0;32m      2\u001b[0m \u001b[38;5;28;01mdef\u001b[39;00m \u001b[38;5;21msumOfDigits\u001b[39m(n):\n\u001b[1;32m----> 3\u001b[0m     \u001b[38;5;28;01mreturn\u001b[39;00m \u001b[38;5;28msum\u001b[39m(\u001b[38;5;28mint\u001b[39m(digit) \u001b[38;5;28;01mfor\u001b[39;00m digit \u001b[38;5;129;01min\u001b[39;00m \u001b[38;5;28mstr\u001b[39m(n))\n",
      "\u001b[1;31mValueError\u001b[0m: invalid literal for int() with base 10: '['"
     ]
    }
   ],
   "source": [
    "final_numbers = [] \n",
    "total_sum = 0 \n",
    "\n",
    "# Iterate through the list \n",
    "for number in number_list: \n",
    "    # first_numn is the first digit per item \n",
    "    first = firstDigit(number)\n",
    "    # last_digit is the last digit per item \n",
    "    last = lastDigit(number)\n",
    "    # Join all digits into a single string. \n",
    "    combined_digits = ''.join(str(first)+ str(last))\n",
    "    \n",
    "    # Change to integer if required \n",
    "    combined_digits= int(combined_digits)\n",
    "    \n",
    "    # for each item, add the item\n",
    "    final_numbers.append(combined_digits)\n",
    "\n",
    "total_sum = sumOfDigits(final_numbers)"
   ]
  },
  {
   "cell_type": "markdown",
   "id": "0ea84986-9b64-470d-be55-37edb77c6b0a",
   "metadata": {},
   "source": [
    "# References: \n",
    "https://www.w3schools.com/python/python_regex.asp \n",
    "https://www.geeksforgeeks.org/find-first-last-digits-number/"
   ]
  },
  {
   "cell_type": "code",
   "execution_count": null,
   "id": "e0d33234-90fd-4991-95d6-333885dab270",
   "metadata": {},
   "outputs": [],
   "source": []
  }
 ],
 "metadata": {
  "kernelspec": {
   "display_name": "“PythonData”",
   "language": "python",
   "name": "pythondata"
  },
  "language_info": {
   "codemirror_mode": {
    "name": "ipython",
    "version": 3
   },
   "file_extension": ".py",
   "mimetype": "text/x-python",
   "name": "python",
   "nbconvert_exporter": "python",
   "pygments_lexer": "ipython3",
   "version": "3.11.4"
  }
 },
 "nbformat": 4,
 "nbformat_minor": 5
}
